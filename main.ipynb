{
 "cells": [
  {
   "cell_type": "markdown",
   "id": "315b3b06",
   "metadata": {},
   "source": [
    "# Berlin Building Industry yearly (source-aligned) - Sample Notebook"
   ]
  },
  {
   "cell_type": "markdown",
   "id": "7b45e6b7",
   "metadata": {},
   "source": [
    "## Explore data"
   ]
  },
  {
   "cell_type": "code",
   "execution_count": 1,
   "id": "e610a2a1",
   "metadata": {
    "execution": {
     "iopub.execute_input": "2025-10-28T22:42:42.158962Z",
     "iopub.status.busy": "2025-10-28T22:42:42.158718Z",
     "iopub.status.idle": "2025-10-28T22:42:42.167943Z",
     "shell.execute_reply": "2025-10-28T22:42:42.167221Z"
    }
   },
   "outputs": [],
   "source": [
    "import pandas as pd\n",
    "\n",
    "# Read csv file\n",
    "dataframe = pd.read_csv(\n",
    "    \"./data/02-silver/berlin-building-industry-2023-00/berlin-building-industry-2023-00-9-key-figures-second-quarter-by-employee-size-categories.csv\"\n",
    ")"
   ]
  },
  {
   "cell_type": "code",
   "execution_count": 2,
   "id": "4d23519c",
   "metadata": {
    "execution": {
     "iopub.execute_input": "2025-10-28T22:42:42.170118Z",
     "iopub.status.busy": "2025-10-28T22:42:42.169932Z",
     "iopub.status.idle": "2025-10-28T22:42:42.182797Z",
     "shell.execute_reply": "2025-10-28T22:42:42.182233Z"
    }
   },
   "outputs": [
    {
     "data": {
      "text/html": [
       "<div>\n",
       "<style scoped>\n",
       "    .dataframe tbody tr th:only-of-type {\n",
       "        vertical-align: middle;\n",
       "    }\n",
       "\n",
       "    .dataframe tbody tr th {\n",
       "        vertical-align: top;\n",
       "    }\n",
       "\n",
       "    .dataframe thead th {\n",
       "        text-align: right;\n",
       "    }\n",
       "</style>\n",
       "<table border=\"1\" class=\"dataframe\">\n",
       "  <thead>\n",
       "    <tr style=\"text-align: right;\">\n",
       "      <th></th>\n",
       "      <th>employee_size_category</th>\n",
       "      <th>companies</th>\n",
       "      <th>employees</th>\n",
       "      <th>salaries</th>\n",
       "      <th>turnover_previous_year_total</th>\n",
       "      <th>turnover_previous_year_building_industry</th>\n",
       "    </tr>\n",
       "  </thead>\n",
       "  <tbody>\n",
       "    <tr>\n",
       "      <th>0</th>\n",
       "      <td>unter 20</td>\n",
       "      <td>611</td>\n",
       "      <td>8447</td>\n",
       "      <td>69439</td>\n",
       "      <td>1106830</td>\n",
       "      <td>1097820</td>\n",
       "    </tr>\n",
       "    <tr>\n",
       "      <th>1</th>\n",
       "      <td>20 bis 49</td>\n",
       "      <td>314</td>\n",
       "      <td>9261</td>\n",
       "      <td>84807</td>\n",
       "      <td>1310346</td>\n",
       "      <td>1305584</td>\n",
       "    </tr>\n",
       "    <tr>\n",
       "      <th>2</th>\n",
       "      <td>50 und mehr</td>\n",
       "      <td>88</td>\n",
       "      <td>11645</td>\n",
       "      <td>119301</td>\n",
       "      <td>1722001</td>\n",
       "      <td>1697548</td>\n",
       "    </tr>\n",
       "  </tbody>\n",
       "</table>\n",
       "</div>"
      ],
      "text/plain": [
       "  employee_size_category  ...  turnover_previous_year_building_industry\n",
       "0               unter 20  ...                                   1097820\n",
       "1              20 bis 49  ...                                   1305584\n",
       "2            50 und mehr  ...                                   1697548\n",
       "\n",
       "[3 rows x 6 columns]"
      ]
     },
     "execution_count": 2,
     "metadata": {},
     "output_type": "execute_result"
    }
   ],
   "source": [
    "# Display 5 first rows\n",
    "dataframe.head()"
   ]
  },
  {
   "cell_type": "code",
   "execution_count": 3,
   "id": "32310c52",
   "metadata": {
    "execution": {
     "iopub.execute_input": "2025-10-28T22:42:42.184272Z",
     "iopub.status.busy": "2025-10-28T22:42:42.184156Z",
     "iopub.status.idle": "2025-10-28T22:42:42.188989Z",
     "shell.execute_reply": "2025-10-28T22:42:42.188481Z"
    }
   },
   "outputs": [
    {
     "name": "stdout",
     "output_type": "stream",
     "text": [
      "<class 'pandas.core.frame.DataFrame'>\n",
      "RangeIndex: 3 entries, 0 to 2\n",
      "Data columns (total 6 columns):\n",
      " #   Column                                    Non-Null Count  Dtype \n",
      "---  ------                                    --------------  ----- \n",
      " 0   employee_size_category                    3 non-null      object\n",
      " 1   companies                                 3 non-null      int64 \n",
      " 2   employees                                 3 non-null      int64 \n",
      " 3   salaries                                  3 non-null      int64 \n",
      " 4   turnover_previous_year_total              3 non-null      int64 \n",
      " 5   turnover_previous_year_building_industry  3 non-null      int64 \n",
      "dtypes: int64(5), object(1)\n",
      "memory usage: 276.0+ bytes\n"
     ]
    }
   ],
   "source": [
    "# Display dataframe info\n",
    "dataframe.info()"
   ]
  },
  {
   "cell_type": "code",
   "execution_count": 4,
   "id": "475561ef",
   "metadata": {
    "execution": {
     "iopub.execute_input": "2025-10-28T22:42:42.190323Z",
     "iopub.status.busy": "2025-10-28T22:42:42.190235Z",
     "iopub.status.idle": "2025-10-28T22:42:42.199319Z",
     "shell.execute_reply": "2025-10-28T22:42:42.198822Z"
    }
   },
   "outputs": [
    {
     "data": {
      "text/html": [
       "<div>\n",
       "<style scoped>\n",
       "    .dataframe tbody tr th:only-of-type {\n",
       "        vertical-align: middle;\n",
       "    }\n",
       "\n",
       "    .dataframe tbody tr th {\n",
       "        vertical-align: top;\n",
       "    }\n",
       "\n",
       "    .dataframe thead th {\n",
       "        text-align: right;\n",
       "    }\n",
       "</style>\n",
       "<table border=\"1\" class=\"dataframe\">\n",
       "  <thead>\n",
       "    <tr style=\"text-align: right;\">\n",
       "      <th></th>\n",
       "      <th>companies</th>\n",
       "      <th>employees</th>\n",
       "      <th>salaries</th>\n",
       "      <th>turnover_previous_year_total</th>\n",
       "      <th>turnover_previous_year_building_industry</th>\n",
       "    </tr>\n",
       "  </thead>\n",
       "  <tbody>\n",
       "    <tr>\n",
       "      <th>count</th>\n",
       "      <td>3.000000</td>\n",
       "      <td>3.000000</td>\n",
       "      <td>3.000000</td>\n",
       "      <td>3.000000e+00</td>\n",
       "      <td>3.000000e+00</td>\n",
       "    </tr>\n",
       "    <tr>\n",
       "      <th>mean</th>\n",
       "      <td>337.666667</td>\n",
       "      <td>9784.333333</td>\n",
       "      <td>91182.333333</td>\n",
       "      <td>1.379726e+06</td>\n",
       "      <td>1.366984e+06</td>\n",
       "    </tr>\n",
       "    <tr>\n",
       "      <th>std</th>\n",
       "      <td>262.301989</td>\n",
       "      <td>1661.989571</td>\n",
       "      <td>25535.042928</td>\n",
       "      <td>3.133991e+05</td>\n",
       "      <td>3.045421e+05</td>\n",
       "    </tr>\n",
       "    <tr>\n",
       "      <th>min</th>\n",
       "      <td>88.000000</td>\n",
       "      <td>8447.000000</td>\n",
       "      <td>69439.000000</td>\n",
       "      <td>1.106830e+06</td>\n",
       "      <td>1.097820e+06</td>\n",
       "    </tr>\n",
       "    <tr>\n",
       "      <th>25%</th>\n",
       "      <td>201.000000</td>\n",
       "      <td>8854.000000</td>\n",
       "      <td>77123.000000</td>\n",
       "      <td>1.208588e+06</td>\n",
       "      <td>1.201702e+06</td>\n",
       "    </tr>\n",
       "    <tr>\n",
       "      <th>50%</th>\n",
       "      <td>314.000000</td>\n",
       "      <td>9261.000000</td>\n",
       "      <td>84807.000000</td>\n",
       "      <td>1.310346e+06</td>\n",
       "      <td>1.305584e+06</td>\n",
       "    </tr>\n",
       "    <tr>\n",
       "      <th>75%</th>\n",
       "      <td>462.500000</td>\n",
       "      <td>10453.000000</td>\n",
       "      <td>102054.000000</td>\n",
       "      <td>1.516174e+06</td>\n",
       "      <td>1.501566e+06</td>\n",
       "    </tr>\n",
       "    <tr>\n",
       "      <th>max</th>\n",
       "      <td>611.000000</td>\n",
       "      <td>11645.000000</td>\n",
       "      <td>119301.000000</td>\n",
       "      <td>1.722001e+06</td>\n",
       "      <td>1.697548e+06</td>\n",
       "    </tr>\n",
       "  </tbody>\n",
       "</table>\n",
       "</div>"
      ],
      "text/plain": [
       "        companies  ...  turnover_previous_year_building_industry\n",
       "count    3.000000  ...                              3.000000e+00\n",
       "mean   337.666667  ...                              1.366984e+06\n",
       "std    262.301989  ...                              3.045421e+05\n",
       "min     88.000000  ...                              1.097820e+06\n",
       "25%    201.000000  ...                              1.201702e+06\n",
       "50%    314.000000  ...                              1.305584e+06\n",
       "75%    462.500000  ...                              1.501566e+06\n",
       "max    611.000000  ...                              1.697548e+06\n",
       "\n",
       "[8 rows x 5 columns]"
      ]
     },
     "execution_count": 4,
     "metadata": {},
     "output_type": "execute_result"
    }
   ],
   "source": [
    "# Describe dataframe\n",
    "dataframe.describe()"
   ]
  }
 ],
 "metadata": {
  "language_info": {
   "codemirror_mode": {
    "name": "ipython",
    "version": 3
   },
   "file_extension": ".py",
   "mimetype": "text/x-python",
   "name": "python",
   "nbconvert_exporter": "python",
   "pygments_lexer": "ipython3",
   "version": "3.13.0"
  }
 },
 "nbformat": 4,
 "nbformat_minor": 5
}
